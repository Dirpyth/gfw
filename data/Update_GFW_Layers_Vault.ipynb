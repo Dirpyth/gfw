{
 "cells": [
  {
   "cell_type": "markdown",
   "metadata": {},
   "source": [
    "# Create Layer Config Backup\n",
    "\n",
    "This notebook outlines how to run a process to create a remote backup of gfw layers.\n",
    "\n",
    "Rough process:\n",
    "\n",
    "- Run this notebook from the `gfw/data` folder\n",
    "- Wait...\n",
    "- Check `_metadata.json` files in the `production` and `staging` folders for changes\n",
    "- If everything looks good, make a PR"
   ]
  },
  {
   "cell_type": "markdown",
   "metadata": {},
   "source": [
    "First, install the latest version of LMIPy"
   ]
  },
  {
   "cell_type": "code",
   "execution_count": 1,
   "metadata": {
    "colab": {
     "base_uri": "https://localhost:8080/",
     "height": 819
    },
    "colab_type": "code",
    "id": "Ar8773SCSXJG",
    "outputId": "f2fdde1e-33cc-41c1-997b-095456301bb2"
   },
   "outputs": [
    {
     "name": "stdout",
     "output_type": "stream",
     "text": [
      "LMI ready!\n"
     ]
    }
   ],
   "source": [
    "!pip install LMIPy\n",
    "\n",
    "from IPython.display import clear_output\n",
    "clear_output()\n",
    "\n",
    "print('LMI ready!')"
   ]
  },
  {
   "cell_type": "markdown",
   "metadata": {},
   "source": [
    "Next, import relevent modules"
   ]
  },
  {
   "cell_type": "code",
   "execution_count": 23,
   "metadata": {
    "colab": {},
    "colab_type": "code",
    "id": "b4EuD29XSenY"
   },
   "outputs": [],
   "source": [
    "import LMIPy as lmi\n",
    "import os\n",
    "import json\n",
    "from pprint import pprint\n",
    "from datetime import datetime\n",
    "import shutil"
   ]
  },
  {
   "cell_type": "markdown",
   "metadata": {
    "colab_type": "text",
    "id": "a-hIn6Rvaj95"
   },
   "source": [
    "First, pull the gfw repo and check that the following path correctly finds the `data/layers` folder, inside which, you should find a `production` and `staging` folder."
   ]
  },
  {
   "cell_type": "code",
   "execution_count": 3,
   "metadata": {
    "colab": {},
    "colab_type": "code",
    "id": "QPqD_2_HUoAD"
   },
   "outputs": [],
   "source": [
    "envs = ['staging', 'production']"
   ]
  },
  {
   "cell_type": "code",
   "execution_count": 4,
   "metadata": {
    "colab": {
     "base_uri": "https://localhost:8080/",
     "height": 34
    },
    "colab_type": "code",
    "id": "Knr1BGlKSvig",
    "outputId": "39bebc0a-74ee-45ac-fdf6-7295612db84c"
   },
   "outputs": [],
   "source": [
    "path = './layers'"
   ]
  },
  {
   "cell_type": "code",
   "execution_count": 27,
   "metadata": {},
   "outputs": [
    {
     "data": {
      "text/plain": [
       "'/Users/vizzuality/Workspace/gfw/data/layers/archived/archive_2019-06-21@09h-31m-18s.zip'"
      ]
     },
     "execution_count": 27,
     "metadata": {},
     "output_type": "execute_result"
    }
   ],
   "source": [
    "# Create directory and archive previous datasets\n",
    "with open(path + '/metadata.json') as f:\n",
    "    date = json.load(f)[0]['updatedAt']\n",
    "    \n",
    "shutil.make_archive(path + f'/archived/archive_{date}', 'zip', path)"
   ]
  },
  {
   "cell_type": "code",
   "execution_count": 28,
   "metadata": {
    "colab": {
     "base_uri": "https://localhost:8080/",
     "height": 164
    },
    "colab_type": "code",
    "id": "AXicSZaGSykM",
    "outputId": "d2fd4d38-3017-4ad2-8270-9e4eaeffed42"
   },
   "outputs": [
    {
     "name": "stdout",
     "output_type": "stream",
     "text": [
      "Good to go!\n"
     ]
    }
   ],
   "source": [
    "# Check correct folders are found\n",
    "\n",
    "if not all([folder in os.listdir(path) for folder in envs]):\n",
    "    print(f'Boo! Incorrect path: {path}')\n",
    "else:\n",
    "    print('Good to go!')"
   ]
  },
  {
   "cell_type": "markdown",
   "metadata": {},
   "source": [
    "Run the following to save, build `.json` files and log changes."
   ]
  },
  {
   "cell_type": "code",
   "execution_count": 29,
   "metadata": {},
   "outputs": [
    {
     "name": "stderr",
     "output_type": "stream",
     "text": [
      "\r",
      "  0%|          | 0/15 [00:00<?, ?it/s]"
     ]
    },
    {
     "name": "stdout",
     "output_type": "stream",
     "text": [
      "Saving to path: ./layers/staging\n"
     ]
    },
    {
     "name": "stderr",
     "output_type": "stream",
     "text": [
      "100%|██████████| 15/15 [00:04<00:00,  3.33it/s]\n",
      "  0%|          | 0/298 [00:00<?, ?it/s]"
     ]
    },
    {
     "name": "stdout",
     "output_type": "stream",
     "text": [
      "Saving to path: ./layers/production\n"
     ]
    },
    {
     "name": "stderr",
     "output_type": "stream",
     "text": [
      "100%|██████████| 298/298 [01:22<00:00,  3.63it/s]"
     ]
    },
    {
     "name": "stdout",
     "output_type": "stream",
     "text": [
      "Done!\n",
      "CPU times: user 6.31 s, sys: 564 ms, total: 6.87 s\n",
      "Wall time: 1min 29s\n"
     ]
    },
    {
     "name": "stderr",
     "output_type": "stream",
     "text": [
      "\n"
     ]
    }
   ],
   "source": [
    "%%time\n",
    "for env in envs:\n",
    "    \n",
    "    # Get all old ids\n",
    "    old_ids = [file.split('.json')[0] for file in os.listdir(path + f'/{env}') if '_metadata' not in file]\n",
    "    \n",
    "    old_datasets = []\n",
    "    files = os.listdir(path + f'/{env}')\n",
    "    \n",
    "    # Extract all oild datasets\n",
    "    for file in files:\n",
    "        if '_metadata' not in file:\n",
    "            with open(path + f'/{env}/{file}') as f:\n",
    "                old_datasets.append(json.load(f))\n",
    "    \n",
    "    # Now pull all current gfw datasets and save\n",
    "    col = lmi.Collection(app=['gfw'], env=env)\n",
    "    col.save(path + f'/{env}')\n",
    "    \n",
    "    # Get all new ids\n",
    "    new_ids = [file.split('.json')[0] for file in os.listdir(path + f'/{env}') if '_metadata' not in file]\n",
    "    \n",
    "    # See which are new, and which have been removed\n",
    "    added = list(set(new_ids) - set(old_ids))\n",
    "    removed = list(set(old_ids) - set(new_ids))\n",
    "    changed = []\n",
    "    \n",
    "    # COmpare old and new, logging those that have changed\n",
    "    for old_dataset in old_datasets:\n",
    "        ds_id = old_dataset['id']\n",
    "        old_ids.append(ds_id)\n",
    "        with open(path + f'/{env}/{ds_id}.json') as f:\n",
    "                new_dataset = json.load(f)\n",
    "        \n",
    "        if old_dataset != new_dataset:\n",
    "            changed.append(ds_id)\n",
    "    \n",
    "    # Create metadata json\n",
    "    with open(path + f'/{env}/_metadata.json', 'w') as f:\n",
    "        \n",
    "        meta = {\n",
    "            'updatedAt': datetime.today().strftime('%Y-%m-%d@%Hh-%Mm-%Ss'),\n",
    "            'env': env,\n",
    "            'differences': {\n",
    "                'changed': changed,\n",
    "                'added': added,\n",
    "                'removed': removed\n",
    "            }\n",
    "        }\n",
    "        \n",
    "        # And save it too!\n",
    "        json.dump(meta,f)\n",
    "        \n",
    "print('Done!')"
   ]
  },
  {
   "cell_type": "code",
   "execution_count": null,
   "metadata": {},
   "outputs": [],
   "source": [
    "# Generate rich metadata\n",
    "\n",
    "metadata = []\n",
    "for env in envs:\n",
    "    with open(path + f'/{env}/_metadata.json') as f:\n",
    "        metadata.append(json.load(f))\n",
    "        \n",
    "for env in metadata:\n",
    "    for change_type, ds_list in env['differences'].items():\n",
    "        tmp = []\n",
    "        for dataset in ds_list:\n",
    "            # generate Dataset entity to get name etc...\n",
    "            tmp.append(str(lmi.Dataset(dataset)))\n",
    "        env['differences'][change_type] = tmp\n",
    "        \n",
    "with open(path + f'/metadata.json', 'w') as f:\n",
    "        \n",
    "        # And save it too!\n",
    "        json.dump(metadata,f)"
   ]
  },
  {
   "cell_type": "code",
   "execution_count": null,
   "metadata": {},
   "outputs": [],
   "source": [
    "pprint(metadata)"
   ]
  },
  {
   "cell_type": "code",
   "execution_count": null,
   "metadata": {},
   "outputs": [],
   "source": []
  }
 ],
 "metadata": {
  "colab": {
   "name": "Update-GFW-Layers-Vault.ipynb",
   "provenance": [],
   "version": "0.3.2"
  },
  "kernelspec": {
   "display_name": "Python 3",
   "language": "python",
   "name": "python3"
  },
  "language_info": {
   "codemirror_mode": {
    "name": "ipython",
    "version": 3
   },
   "file_extension": ".py",
   "mimetype": "text/x-python",
   "name": "python",
   "nbconvert_exporter": "python",
   "pygments_lexer": "ipython3",
   "version": "3.6.2"
  }
 },
 "nbformat": 4,
 "nbformat_minor": 1
}
